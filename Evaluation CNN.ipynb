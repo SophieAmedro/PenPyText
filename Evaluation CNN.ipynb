{
 "cells": [
  {
   "cell_type": "code",
   "execution_count": 1,
   "id": "428c31d3",
   "metadata": {},
   "outputs": [
    {
     "name": "stdout",
     "output_type": "stream",
     "text": [
      "Init Plugin\n",
      "Init Graph Optimizer\n",
      "Init Kernel\n"
     ]
    }
   ],
   "source": [
    "# Importations\n",
    "import pandas as pd\n",
    "import numpy as np\n",
    "\n",
    "import argparse\n",
    "import tensorflow\n",
    "\n",
    "# fonctions\n",
    "import traintestsplit as tts\n",
    "from words_txt_to_df import txt_to_df\n",
    "from nettoyage_fichiers import clean_data, error_image\n",
    "from harmonisation import harmony_clean\n",
    "\n",
    "# modèle cnn\n",
    "import preprocess_cnn as ppcnn\n",
    "from cnn_model import build_model_cnn\n",
    "\n",
    "# prédictions\n",
    "import cnn_pred\n",
    "\n",
    "# Visualisation\n",
    "import matplotlib.pyplot as plt\n",
    "\n",
    "# Evaluation\n",
    "import evaluation\n",
    "\n",
    "# Reproductibilité\n",
    "from numpy.random import seed\n",
    "seed(1)\n",
    "from tensorflow import random\n",
    "random.set_seed(2)"
   ]
  },
  {
   "cell_type": "markdown",
   "id": "0efb4683",
   "metadata": {},
   "source": [
    "# Récupération des données et du modèle"
   ]
  },
  {
   "cell_type": "code",
   "execution_count": 2,
   "id": "2aa47190",
   "metadata": {},
   "outputs": [
    {
     "name": "stdout",
     "output_type": "stream",
     "text": [
      "Lecture de words.txt et transformation en dataframe\n",
      "Suppression des erreurs de lecture d'image du df\n",
      "Erreur de lecture sur l'image: a01-117-05-02.png\n",
      "Erreur de lecture sur l'image: r06-022-03-05.png\n",
      "génération d'un dataframe contenant la répartition du dataset [line_id,set]\n",
      "Split des données\n",
      "Préparation des données d'entrainement, validation et test\n",
      "Metal device set to: Apple M1\n"
     ]
    },
    {
     "name": "stderr",
     "output_type": "stream",
     "text": [
      "2021-12-15 20:47:21.687238: I tensorflow/core/common_runtime/pluggable_device/pluggable_device_factory.cc:305] Could not identify NUMA node of platform GPU ID 0, defaulting to 0. Your kernel may not have been built with NUMA support.\n",
      "2021-12-15 20:47:21.687340: I tensorflow/core/common_runtime/pluggable_device/pluggable_device_factory.cc:271] Created TensorFlow device (/job:localhost/replica:0/task:0/device:GPU:0 with 0 MB memory) -> physical PluggableDevice (device: 0, name: METAL, pci bus id: <undefined>)\n"
     ]
    },
    {
     "name": "stdout",
     "output_type": "stream",
     "text": [
      "Construction du modèle\n",
      "Model: \"cnn\"\n",
      "_________________________________________________________________\n",
      "Layer (type)                 Output Shape              Param #   \n",
      "=================================================================\n",
      "input_im (InputLayer)        [(None, 32, 128, 1)]      0         \n",
      "_________________________________________________________________\n",
      "conv_1 (Conv2D)              (None, 12, 60, 64)        5248      \n",
      "_________________________________________________________________\n",
      "batch_normalization (BatchNo (None, 12, 60, 64)        256       \n",
      "_________________________________________________________________\n",
      "activation (Activation)      (None, 12, 60, 64)        0         \n",
      "_________________________________________________________________\n",
      "conv_2 (Conv2D)              (None, 12, 60, 128)       204928    \n",
      "_________________________________________________________________\n",
      "batch_normalization_1 (Batch (None, 12, 60, 128)       512       \n",
      "_________________________________________________________________\n",
      "activation_1 (Activation)    (None, 12, 60, 128)       0         \n",
      "_________________________________________________________________\n",
      "conv_3 (Conv2D)              (None, 12, 60, 128)       147584    \n",
      "_________________________________________________________________\n",
      "batch_normalization_2 (Batch (None, 12, 60, 128)       512       \n",
      "_________________________________________________________________\n",
      "activation_2 (Activation)    (None, 12, 60, 128)       0         \n",
      "_________________________________________________________________\n",
      "conv_4 (Conv2D)              (None, 12, 60, 256)       295168    \n",
      "_________________________________________________________________\n",
      "batch_normalization_3 (Batch (None, 12, 60, 256)       1024      \n",
      "_________________________________________________________________\n",
      "activation_3 (Activation)    (None, 12, 60, 256)       0         \n",
      "_________________________________________________________________\n",
      "conv_5 (Conv2D)              (None, 12, 60, 256)       590080    \n",
      "_________________________________________________________________\n",
      "batch_normalization_4 (Batch (None, 12, 60, 256)       1024      \n",
      "_________________________________________________________________\n",
      "activation_4 (Activation)    (None, 12, 60, 256)       0         \n",
      "_________________________________________________________________\n",
      "max_pool (MaxPooling2D)      (None, 6, 30, 256)        0         \n",
      "_________________________________________________________________\n",
      "average_pool (GlobalAverageP (None, 256)               0         \n",
      "_________________________________________________________________\n",
      "dense_1 (Dense)              (None, 512)               131584    \n",
      "_________________________________________________________________\n",
      "batch_normalization_5 (Batch (None, 512)               2048      \n",
      "_________________________________________________________________\n",
      "activation_5 (Activation)    (None, 512)               0         \n",
      "_________________________________________________________________\n",
      "dropout_1 (Dropout)          (None, 512)               0         \n",
      "_________________________________________________________________\n",
      "classifier (Dense)           (None, 8004)              4106052   \n",
      "=================================================================\n",
      "Total params: 5,486,020\n",
      "Trainable params: 5,483,332\n",
      "Non-trainable params: 2,688\n",
      "_________________________________________________________________\n",
      "None\n"
     ]
    }
   ],
   "source": [
    "print(\"Lecture de words.txt et transformation en dataframe\") \n",
    "    #[word_id,ok_err,gray_level,transcript,data_path]\n",
    "df_words = txt_to_df('words.txt')\n",
    "\n",
    "print(\"Suppression des erreurs de lecture d'image du df\")\n",
    "df_words = clean_data(df_words)\n",
    "\n",
    "print(\"génération d'un dataframe contenant la répartition du dataset [line_id,set]\")\n",
    "df_tts = tts.text_to_splitDataframe()\n",
    "\n",
    "print(\"Split des données\")\n",
    "trainset, testset, validationset = tts.split_data(df_tts, df_words)\n",
    "\n",
    "\n",
    "# Variables utiles\n",
    "TARGET_SIZE = (128,32)\n",
    "BACTH = 100\n",
    "\n",
    "print(\"Préparation des données d'entrainement, validation et test\")\n",
    "Xy_train = ppcnn.data_Xy(trainset, TARGET_SIZE, trainset, BACTH)\n",
    "Xy_valid = ppcnn.data_Xy(validationset, TARGET_SIZE, trainset, BACTH)\n",
    "Xy_test = ppcnn.data_Xy(testset, TARGET_SIZE, trainset, BACTH)\n",
    "\n",
    "print(\"Construction du modèle\")\n",
    "NB_CLASS = len(ppcnn.labels_dict(trainset))\n",
    "cnn = build_model_cnn(NB_CLASS, TARGET_SIZE)\n",
    "\n",
    "cnn.load_weights('cnn.weights.h5')\n"
   ]
  },
  {
   "cell_type": "markdown",
   "id": "cc428c61",
   "metadata": {},
   "source": [
    "# Prédictions sur les données test"
   ]
  },
  {
   "cell_type": "code",
   "execution_count": 3,
   "id": "198cb045",
   "metadata": {},
   "outputs": [
    {
     "name": "stderr",
     "output_type": "stream",
     "text": [
      "2021-12-15 20:47:44.165419: I tensorflow/compiler/mlir/mlir_graph_optimization_pass.cc:176] None of the MLIR Optimization Passes are enabled (registered 2)\n",
      "2021-12-15 20:47:44.165682: W tensorflow/core/platform/profile_utils/cpu_utils.cc:128] Failed to get CPU frequency: 0 Hz\n",
      "2021-12-15 20:47:44.224783: I tensorflow/core/grappler/optimizers/custom_graph_optimizer_registry.cc:112] Plugin optimizer for device_type GPU is enabled.\n"
     ]
    },
    {
     "name": "stdout",
     "output_type": "stream",
     "text": [
      "WARNING:tensorflow:Your input ran out of data; interrupting training. Make sure that your dataset or generator can generate at least `steps_per_epoch * epochs` batches (in this case, 176 batches). You may need to use the repeat() function when building your dataset.\n"
     ]
    },
    {
     "data": {
      "text/html": [
       "<div>\n",
       "<style scoped>\n",
       "    .dataframe tbody tr th:only-of-type {\n",
       "        vertical-align: middle;\n",
       "    }\n",
       "\n",
       "    .dataframe tbody tr th {\n",
       "        vertical-align: top;\n",
       "    }\n",
       "\n",
       "    .dataframe thead th {\n",
       "        text-align: right;\n",
       "    }\n",
       "</style>\n",
       "<table border=\"1\" class=\"dataframe\">\n",
       "  <thead>\n",
       "    <tr style=\"text-align: right;\">\n",
       "      <th></th>\n",
       "      <th>data_path</th>\n",
       "      <th>predict_1</th>\n",
       "      <th>predict_2</th>\n",
       "      <th>predict_3</th>\n",
       "      <th>predict_4</th>\n",
       "      <th>predict_5</th>\n",
       "      <th>transcript</th>\n",
       "    </tr>\n",
       "  </thead>\n",
       "  <tbody>\n",
       "    <tr>\n",
       "      <th>0</th>\n",
       "      <td>data/words/m01/m01-049/m01-049-00-00.png</td>\n",
       "      <td>He</td>\n",
       "      <td>he</td>\n",
       "      <td>the</td>\n",
       "      <td>We</td>\n",
       "      <td>let</td>\n",
       "      <td>He</td>\n",
       "    </tr>\n",
       "    <tr>\n",
       "      <th>1</th>\n",
       "      <td>data/words/m01/m01-049/m01-049-00-01.png</td>\n",
       "      <td>Miss</td>\n",
       "      <td>1834</td>\n",
       "      <td>With</td>\n",
       "      <td>NOT</td>\n",
       "      <td>1830</td>\n",
       "      <td>rose</td>\n",
       "    </tr>\n",
       "    <tr>\n",
       "      <th>2</th>\n",
       "      <td>data/words/m01/m01-049/m01-049-00-02.png</td>\n",
       "      <td>for</td>\n",
       "      <td>fine</td>\n",
       "      <td>the</td>\n",
       "      <td>hope</td>\n",
       "      <td>ten</td>\n",
       "      <td>from</td>\n",
       "    </tr>\n",
       "    <tr>\n",
       "      <th>3</th>\n",
       "      <td>data/words/m01/m01-049/m01-049-00-03.png</td>\n",
       "      <td>in</td>\n",
       "      <td>is</td>\n",
       "      <td>his</td>\n",
       "      <td>In</td>\n",
       "      <td>has</td>\n",
       "      <td>his</td>\n",
       "    </tr>\n",
       "    <tr>\n",
       "      <th>4</th>\n",
       "      <td>data/words/m01/m01-049/m01-049-00-04.png</td>\n",
       "      <td>fascinating</td>\n",
       "      <td>fur-</td>\n",
       "      <td>It</td>\n",
       "      <td>by</td>\n",
       "      <td>it</td>\n",
       "      <td>breakfast-nook</td>\n",
       "    </tr>\n",
       "  </tbody>\n",
       "</table>\n",
       "</div>"
      ],
      "text/plain": [
       "                                  data_path    predict_1 predict_2 predict_3  \\\n",
       "0  data/words/m01/m01-049/m01-049-00-00.png           He        he       the   \n",
       "1  data/words/m01/m01-049/m01-049-00-01.png         Miss      1834      With   \n",
       "2  data/words/m01/m01-049/m01-049-00-02.png          for      fine       the   \n",
       "3  data/words/m01/m01-049/m01-049-00-03.png           in        is       his   \n",
       "4  data/words/m01/m01-049/m01-049-00-04.png  fascinating      fur-        It   \n",
       "\n",
       "  predict_4 predict_5      transcript  \n",
       "0        We       let              He  \n",
       "1       NOT      1830            rose  \n",
       "2      hope       ten            from  \n",
       "3        In       has             his  \n",
       "4        by        it  breakfast-nook  "
      ]
     },
     "execution_count": 3,
     "metadata": {},
     "output_type": "execute_result"
    }
   ],
   "source": [
    "pred_key = cnn_pred.predictions_top5(cnn, testset, target_size = TARGET_SIZE, batch_size = BACTH)\n",
    "dict_code = ppcnn.labels_dict(trainset)\n",
    "pred_words = cnn_pred.decoder_pred(pred_key, dict_code)\n",
    "df_top5  = cnn_pred.df_bilan_top5(testset, pred_words)\n",
    "df_top5.head()"
   ]
  },
  {
   "cell_type": "markdown",
   "id": "7d17437c",
   "metadata": {},
   "source": [
    "# Evaluation du modèle"
   ]
  },
  {
   "cell_type": "markdown",
   "id": "54e2d9cd",
   "metadata": {},
   "source": [
    "## première prédiction"
   ]
  },
  {
   "cell_type": "code",
   "execution_count": 4,
   "id": "ad5c4d5d",
   "metadata": {},
   "outputs": [
    {
     "data": {
      "text/html": [
       "<div>\n",
       "<style scoped>\n",
       "    .dataframe tbody tr th:only-of-type {\n",
       "        vertical-align: middle;\n",
       "    }\n",
       "\n",
       "    .dataframe tbody tr th {\n",
       "        vertical-align: top;\n",
       "    }\n",
       "\n",
       "    .dataframe thead th {\n",
       "        text-align: right;\n",
       "    }\n",
       "</style>\n",
       "<table border=\"1\" class=\"dataframe\">\n",
       "  <thead>\n",
       "    <tr style=\"text-align: right;\">\n",
       "      <th></th>\n",
       "      <th>data_path</th>\n",
       "      <th>predict_1</th>\n",
       "      <th>predict_2</th>\n",
       "      <th>predict_3</th>\n",
       "      <th>predict_4</th>\n",
       "      <th>predict_5</th>\n",
       "      <th>transcript</th>\n",
       "      <th>transcript_is_pred1</th>\n",
       "    </tr>\n",
       "  </thead>\n",
       "  <tbody>\n",
       "    <tr>\n",
       "      <th>0</th>\n",
       "      <td>data/words/m01/m01-049/m01-049-00-00.png</td>\n",
       "      <td>He</td>\n",
       "      <td>he</td>\n",
       "      <td>the</td>\n",
       "      <td>We</td>\n",
       "      <td>let</td>\n",
       "      <td>He</td>\n",
       "      <td>True</td>\n",
       "    </tr>\n",
       "    <tr>\n",
       "      <th>1</th>\n",
       "      <td>data/words/m01/m01-049/m01-049-00-01.png</td>\n",
       "      <td>Miss</td>\n",
       "      <td>1834</td>\n",
       "      <td>With</td>\n",
       "      <td>NOT</td>\n",
       "      <td>1830</td>\n",
       "      <td>rose</td>\n",
       "      <td>False</td>\n",
       "    </tr>\n",
       "    <tr>\n",
       "      <th>2</th>\n",
       "      <td>data/words/m01/m01-049/m01-049-00-02.png</td>\n",
       "      <td>for</td>\n",
       "      <td>fine</td>\n",
       "      <td>the</td>\n",
       "      <td>hope</td>\n",
       "      <td>ten</td>\n",
       "      <td>from</td>\n",
       "      <td>False</td>\n",
       "    </tr>\n",
       "    <tr>\n",
       "      <th>3</th>\n",
       "      <td>data/words/m01/m01-049/m01-049-00-03.png</td>\n",
       "      <td>in</td>\n",
       "      <td>is</td>\n",
       "      <td>his</td>\n",
       "      <td>In</td>\n",
       "      <td>has</td>\n",
       "      <td>his</td>\n",
       "      <td>False</td>\n",
       "    </tr>\n",
       "    <tr>\n",
       "      <th>4</th>\n",
       "      <td>data/words/m01/m01-049/m01-049-00-04.png</td>\n",
       "      <td>fascinating</td>\n",
       "      <td>fur-</td>\n",
       "      <td>It</td>\n",
       "      <td>by</td>\n",
       "      <td>it</td>\n",
       "      <td>breakfast-nook</td>\n",
       "      <td>False</td>\n",
       "    </tr>\n",
       "  </tbody>\n",
       "</table>\n",
       "</div>"
      ],
      "text/plain": [
       "                                  data_path    predict_1 predict_2 predict_3  \\\n",
       "0  data/words/m01/m01-049/m01-049-00-00.png           He        he       the   \n",
       "1  data/words/m01/m01-049/m01-049-00-01.png         Miss      1834      With   \n",
       "2  data/words/m01/m01-049/m01-049-00-02.png          for      fine       the   \n",
       "3  data/words/m01/m01-049/m01-049-00-03.png           in        is       his   \n",
       "4  data/words/m01/m01-049/m01-049-00-04.png  fascinating      fur-        It   \n",
       "\n",
       "  predict_4 predict_5      transcript transcript_is_pred1  \n",
       "0        We       let              He                True  \n",
       "1       NOT      1830            rose               False  \n",
       "2      hope       ten            from               False  \n",
       "3        In       has             his               False  \n",
       "4        by        it  breakfast-nook               False  "
      ]
     },
     "execution_count": 4,
     "metadata": {},
     "output_type": "execute_result"
    }
   ],
   "source": [
    "df_top5['transcript'] = testset.transcript\n",
    "df_top5['transcript_is_pred1'] = None\n",
    "\n",
    "for i in range(df_top5.shape[0]):\n",
    "    df_top5.transcript_is_pred1[i] = evaluation.transcript_in_pred1(df_top5, i)\n",
    "df_top5.head()"
   ]
  },
  {
   "cell_type": "code",
   "execution_count": 5,
   "id": "e151b1a8",
   "metadata": {},
   "outputs": [
    {
     "data": {
      "text/plain": [
       "False    0.775148\n",
       "True     0.224852\n",
       "Name: transcript_is_pred1, dtype: float64"
      ]
     },
     "execution_count": 5,
     "metadata": {},
     "output_type": "execute_result"
    }
   ],
   "source": [
    "df_top5[\"transcript_is_pred1\"].value_counts(normalize = True)"
   ]
  },
  {
   "cell_type": "markdown",
   "id": "e41feb3b",
   "metadata": {},
   "source": [
    "## 5 meilleures prédictions "
   ]
  },
  {
   "cell_type": "code",
   "execution_count": 6,
   "id": "b4b280e4",
   "metadata": {},
   "outputs": [
    {
     "data": {
      "text/html": [
       "<div>\n",
       "<style scoped>\n",
       "    .dataframe tbody tr th:only-of-type {\n",
       "        vertical-align: middle;\n",
       "    }\n",
       "\n",
       "    .dataframe tbody tr th {\n",
       "        vertical-align: top;\n",
       "    }\n",
       "\n",
       "    .dataframe thead th {\n",
       "        text-align: right;\n",
       "    }\n",
       "</style>\n",
       "<table border=\"1\" class=\"dataframe\">\n",
       "  <thead>\n",
       "    <tr style=\"text-align: right;\">\n",
       "      <th></th>\n",
       "      <th>data_path</th>\n",
       "      <th>predict_1</th>\n",
       "      <th>predict_2</th>\n",
       "      <th>predict_3</th>\n",
       "      <th>predict_4</th>\n",
       "      <th>predict_5</th>\n",
       "      <th>transcript</th>\n",
       "      <th>transcript_is_pred1</th>\n",
       "      <th>transcript_in_top5</th>\n",
       "    </tr>\n",
       "  </thead>\n",
       "  <tbody>\n",
       "    <tr>\n",
       "      <th>0</th>\n",
       "      <td>data/words/m01/m01-049/m01-049-00-00.png</td>\n",
       "      <td>He</td>\n",
       "      <td>he</td>\n",
       "      <td>the</td>\n",
       "      <td>We</td>\n",
       "      <td>let</td>\n",
       "      <td>He</td>\n",
       "      <td>True</td>\n",
       "      <td>True</td>\n",
       "    </tr>\n",
       "    <tr>\n",
       "      <th>1</th>\n",
       "      <td>data/words/m01/m01-049/m01-049-00-01.png</td>\n",
       "      <td>Miss</td>\n",
       "      <td>1834</td>\n",
       "      <td>With</td>\n",
       "      <td>NOT</td>\n",
       "      <td>1830</td>\n",
       "      <td>rose</td>\n",
       "      <td>False</td>\n",
       "      <td>False</td>\n",
       "    </tr>\n",
       "    <tr>\n",
       "      <th>2</th>\n",
       "      <td>data/words/m01/m01-049/m01-049-00-02.png</td>\n",
       "      <td>for</td>\n",
       "      <td>fine</td>\n",
       "      <td>the</td>\n",
       "      <td>hope</td>\n",
       "      <td>ten</td>\n",
       "      <td>from</td>\n",
       "      <td>False</td>\n",
       "      <td>False</td>\n",
       "    </tr>\n",
       "    <tr>\n",
       "      <th>3</th>\n",
       "      <td>data/words/m01/m01-049/m01-049-00-03.png</td>\n",
       "      <td>in</td>\n",
       "      <td>is</td>\n",
       "      <td>his</td>\n",
       "      <td>In</td>\n",
       "      <td>has</td>\n",
       "      <td>his</td>\n",
       "      <td>False</td>\n",
       "      <td>True</td>\n",
       "    </tr>\n",
       "    <tr>\n",
       "      <th>4</th>\n",
       "      <td>data/words/m01/m01-049/m01-049-00-04.png</td>\n",
       "      <td>fascinating</td>\n",
       "      <td>fur-</td>\n",
       "      <td>It</td>\n",
       "      <td>by</td>\n",
       "      <td>it</td>\n",
       "      <td>breakfast-nook</td>\n",
       "      <td>False</td>\n",
       "      <td>False</td>\n",
       "    </tr>\n",
       "  </tbody>\n",
       "</table>\n",
       "</div>"
      ],
      "text/plain": [
       "                                  data_path    predict_1 predict_2 predict_3  \\\n",
       "0  data/words/m01/m01-049/m01-049-00-00.png           He        he       the   \n",
       "1  data/words/m01/m01-049/m01-049-00-01.png         Miss      1834      With   \n",
       "2  data/words/m01/m01-049/m01-049-00-02.png          for      fine       the   \n",
       "3  data/words/m01/m01-049/m01-049-00-03.png           in        is       his   \n",
       "4  data/words/m01/m01-049/m01-049-00-04.png  fascinating      fur-        It   \n",
       "\n",
       "  predict_4 predict_5      transcript transcript_is_pred1 transcript_in_top5  \n",
       "0        We       let              He                True               True  \n",
       "1       NOT      1830            rose               False              False  \n",
       "2      hope       ten            from               False              False  \n",
       "3        In       has             his               False               True  \n",
       "4        by        it  breakfast-nook               False              False  "
      ]
     },
     "execution_count": 6,
     "metadata": {},
     "output_type": "execute_result"
    }
   ],
   "source": [
    "df_top5['transcript_in_top5'] = None\n",
    "\n",
    "for i in range(df_top5.shape[0]):\n",
    "    df_top5.transcript_in_top5[i] = evaluation.transcript_in_top5(df_top5, i)\n",
    "df_top5.head()"
   ]
  },
  {
   "cell_type": "code",
   "execution_count": 7,
   "id": "44b56c60",
   "metadata": {},
   "outputs": [
    {
     "data": {
      "text/plain": [
       "True     0.596446\n",
       "False    0.403554\n",
       "Name: transcript_in_top5, dtype: float64"
      ]
     },
     "execution_count": 7,
     "metadata": {},
     "output_type": "execute_result"
    }
   ],
   "source": [
    "df_top5[\"transcript_in_top5\"].value_counts(normalize = True)"
   ]
  },
  {
   "cell_type": "markdown",
   "id": "a8105048",
   "metadata": {},
   "source": [
    "**Le modèle CNN a une accuracy qui d'environ 60% dans le top 5 des prédictions alors qu'elle n'est que de 22% pour la première prédiction**"
   ]
  },
  {
   "cell_type": "markdown",
   "id": "ddad95b5",
   "metadata": {},
   "source": [
    "# Visualisation"
   ]
  },
  {
   "cell_type": "code",
   "execution_count": 8,
   "id": "ffd52b81",
   "metadata": {},
   "outputs": [
    {
     "data": {
      "image/png": "[encoded data removed]",
      "text/plain": [
       "<Figure size 432x288 with 1 Axes>"
      ]
     },
     "metadata": {
      "needs_background": "light"
     },
     "output_type": "display_data"
    },
    {
     "data": {
      "image/png": "[encoded data removed]",
      "text/plain": [
       "<Figure size 432x288 with 1 Axes>"
      ]
     },
     "metadata": {
      "needs_background": "light"
     },
     "output_type": "display_data"
    },
    {
     "data": {
      "image/png": "[encoded data removed]",
      "text/plain": [
       "<Figure size 432x288 with 1 Axes>"
      ]
     },
     "metadata": {
      "needs_background": "light"
     },
     "output_type": "display_data"
    }
   ],
   "source": [
    "evaluation.viz_pred5(df_top5)"
   ]
  },
  {
   "cell_type": "code",
   "execution_count": null,
   "id": "e674d680",
   "metadata": {},
   "outputs": [],
   "source": []
  }
 ],
 "metadata": {
  "kernelspec": {
   "display_name": "Python 3 (ipykernel)",
   "language": "python",
   "name": "python3"
  },
  "language_info": {
   "codemirror_mode": {
    "name": "ipython",
    "version": 3
   },
   "file_extension": ".py",
   "mimetype": "text/x-python",
   "name": "python",
   "nbconvert_exporter": "python",
   "pygments_lexer": "ipython3",
   "version": "3.9.7"
  }
 },
 "nbformat": 4,
 "nbformat_minor": 5
}
