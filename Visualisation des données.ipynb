{
 "cells": [
  {
   "cell_type": "code",
   "execution_count": 1,
   "id": "c3bee065",
   "metadata": {},
   "outputs": [],
   "source": [
    "# What version of Python do you have?\n",
    "import sys\n",
    "\n",
    "import tensorflow.keras\n",
    "import pandas as pd\n",
    "import sklearn as sk\n",
    "\n",
    "\n",
    "import numpy as np\n",
    "import pandas as pd\n",
    "import seaborn as sns\n",
    "\n",
    "import matplotlib.pyplot as plt\n",
    "from matplotlib import cm\n",
    "\n",
    "import cv2\n",
    "import words_txt_to_df as wttd\n"
   ]
  },
  {
   "cell_type": "code",
   "execution_count": 2,
   "id": "fd1218b3",
   "metadata": {},
   "outputs": [],
   "source": [
    "df = wttd.txt_to_df()"
   ]
  },
  {
   "cell_type": "code",
   "execution_count": 3,
   "id": "055fe5a9",
   "metadata": {},
   "outputs": [
    {
     "data": {
      "text/html": [
       "<div>\n",
       "<style scoped>\n",
       "    .dataframe tbody tr th:only-of-type {\n",
       "        vertical-align: middle;\n",
       "    }\n",
       "\n",
       "    .dataframe tbody tr th {\n",
       "        vertical-align: top;\n",
       "    }\n",
       "\n",
       "    .dataframe thead th {\n",
       "        text-align: right;\n",
       "    }\n",
       "</style>\n",
       "<table border=\"1\" class=\"dataframe\">\n",
       "  <thead>\n",
       "    <tr style=\"text-align: right;\">\n",
       "      <th></th>\n",
       "      <th>word_id</th>\n",
       "      <th>ok_err</th>\n",
       "      <th>gray_level</th>\n",
       "      <th>transcript</th>\n",
       "      <th>data_path</th>\n",
       "    </tr>\n",
       "  </thead>\n",
       "  <tbody>\n",
       "    <tr>\n",
       "      <th>0</th>\n",
       "      <td>a01-000u-00-00</td>\n",
       "      <td>ok</td>\n",
       "      <td>154</td>\n",
       "      <td>A</td>\n",
       "      <td>data/words/a01/a01-000u/a01-000u-00-00.png</td>\n",
       "    </tr>\n",
       "    <tr>\n",
       "      <th>1</th>\n",
       "      <td>a01-000u-00-01</td>\n",
       "      <td>ok</td>\n",
       "      <td>154</td>\n",
       "      <td>MOVE</td>\n",
       "      <td>data/words/a01/a01-000u/a01-000u-00-01.png</td>\n",
       "    </tr>\n",
       "    <tr>\n",
       "      <th>2</th>\n",
       "      <td>a01-000u-00-02</td>\n",
       "      <td>ok</td>\n",
       "      <td>154</td>\n",
       "      <td>to</td>\n",
       "      <td>data/words/a01/a01-000u/a01-000u-00-02.png</td>\n",
       "    </tr>\n",
       "    <tr>\n",
       "      <th>3</th>\n",
       "      <td>a01-000u-00-03</td>\n",
       "      <td>ok</td>\n",
       "      <td>154</td>\n",
       "      <td>stop</td>\n",
       "      <td>data/words/a01/a01-000u/a01-000u-00-03.png</td>\n",
       "    </tr>\n",
       "    <tr>\n",
       "      <th>4</th>\n",
       "      <td>a01-000u-00-04</td>\n",
       "      <td>ok</td>\n",
       "      <td>154</td>\n",
       "      <td>Mr.</td>\n",
       "      <td>data/words/a01/a01-000u/a01-000u-00-04.png</td>\n",
       "    </tr>\n",
       "  </tbody>\n",
       "</table>\n",
       "</div>"
      ],
      "text/plain": [
       "          word_id ok_err gray_level transcript  \\\n",
       "0  a01-000u-00-00     ok        154          A   \n",
       "1  a01-000u-00-01     ok        154       MOVE   \n",
       "2  a01-000u-00-02     ok        154         to   \n",
       "3  a01-000u-00-03     ok        154       stop   \n",
       "4  a01-000u-00-04     ok        154        Mr.   \n",
       "\n",
       "                                    data_path  \n",
       "0  data/words/a01/a01-000u/a01-000u-00-00.png  \n",
       "1  data/words/a01/a01-000u/a01-000u-00-01.png  \n",
       "2  data/words/a01/a01-000u/a01-000u-00-02.png  \n",
       "3  data/words/a01/a01-000u/a01-000u-00-03.png  \n",
       "4  data/words/a01/a01-000u/a01-000u-00-04.png  "
      ]
     },
     "execution_count": 3,
     "metadata": {},
     "output_type": "execute_result"
    }
   ],
   "source": [
    "df.head()"
   ]
  },
  {
   "cell_type": "markdown",
   "id": "8d89371a",
   "metadata": {},
   "source": [
    "# Exploration des données"
   ]
  },
  {
   "cell_type": "code",
   "execution_count": 4,
   "id": "f0b454ca",
   "metadata": {},
   "outputs": [],
   "source": [
    "# Ajouter une colonne \"count_char\" qui compte le nombre de caractères pour chaque transcription\n",
    "df[\"count_char\"] = df.transcript.apply(lambda x: len(list(x)))"
   ]
  },
  {
   "cell_type": "code",
   "execution_count": 5,
   "id": "088f0b15",
   "metadata": {},
   "outputs": [
    {
     "data": {
      "text/plain": [
       "(115320, 6)"
      ]
     },
     "execution_count": 5,
     "metadata": {},
     "output_type": "execute_result"
    }
   ],
   "source": [
    "df.shape"
   ]
  },
  {
   "cell_type": "code",
   "execution_count": 6,
   "id": "5c3ef866",
   "metadata": {},
   "outputs": [
    {
     "data": {
      "text/html": [
       "<div>\n",
       "<style scoped>\n",
       "    .dataframe tbody tr th:only-of-type {\n",
       "        vertical-align: middle;\n",
       "    }\n",
       "\n",
       "    .dataframe tbody tr th {\n",
       "        vertical-align: top;\n",
       "    }\n",
       "\n",
       "    .dataframe thead th {\n",
       "        text-align: right;\n",
       "    }\n",
       "</style>\n",
       "<table border=\"1\" class=\"dataframe\">\n",
       "  <thead>\n",
       "    <tr style=\"text-align: right;\">\n",
       "      <th></th>\n",
       "      <th>word_id</th>\n",
       "      <th>ok_err</th>\n",
       "      <th>gray_level</th>\n",
       "      <th>transcript</th>\n",
       "      <th>data_path</th>\n",
       "      <th>count_char</th>\n",
       "    </tr>\n",
       "  </thead>\n",
       "  <tbody>\n",
       "    <tr>\n",
       "      <th>107040</th>\n",
       "      <td>p02-109-01-00</td>\n",
       "      <td>err</td>\n",
       "      <td>175</td>\n",
       "      <td>----------------------------------------------...</td>\n",
       "      <td>data/words/p02/p02-109/p02-109-01-00.png</td>\n",
       "      <td>53</td>\n",
       "    </tr>\n",
       "    <tr>\n",
       "      <th>93511</th>\n",
       "      <td>m02-059-05-06</td>\n",
       "      <td>ok</td>\n",
       "      <td>176</td>\n",
       "      <td>middle-income-bracket</td>\n",
       "      <td>data/words/m02/m02-059/m02-059-05-06.png</td>\n",
       "      <td>21</td>\n",
       "    </tr>\n",
       "    <tr>\n",
       "      <th>80838</th>\n",
       "      <td>j07-000-04-03</td>\n",
       "      <td>ok</td>\n",
       "      <td>130</td>\n",
       "      <td>plate-and-corrugation</td>\n",
       "      <td>data/words/j07/j07-000/j07-000-04-03.png</td>\n",
       "      <td>21</td>\n",
       "    </tr>\n",
       "    <tr>\n",
       "      <th>102943</th>\n",
       "      <td>n04-092-03-01</td>\n",
       "      <td>ok</td>\n",
       "      <td>192</td>\n",
       "      <td>Lieutenant-Commander</td>\n",
       "      <td>data/words/n04/n04-092/n04-092-03-01.png</td>\n",
       "      <td>20</td>\n",
       "    </tr>\n",
       "    <tr>\n",
       "      <th>30311</th>\n",
       "      <td>c04-144-05-09</td>\n",
       "      <td>ok</td>\n",
       "      <td>181</td>\n",
       "      <td>brilliantly-written</td>\n",
       "      <td>data/words/c04/c04-144/c04-144-05-09.png</td>\n",
       "      <td>19</td>\n",
       "    </tr>\n",
       "    <tr>\n",
       "      <th>69127</th>\n",
       "      <td>g06-109-02-00</td>\n",
       "      <td>ok</td>\n",
       "      <td>191</td>\n",
       "      <td>travelling-carriage</td>\n",
       "      <td>data/words/g06/g06-109/g06-109-02-00.png</td>\n",
       "      <td>19</td>\n",
       "    </tr>\n",
       "    <tr>\n",
       "      <th>46266</th>\n",
       "      <td>f01-147-08-01</td>\n",
       "      <td>ok</td>\n",
       "      <td>159</td>\n",
       "      <td>neuro-physiologists</td>\n",
       "      <td>data/words/f01/f01-147/f01-147-08-01.png</td>\n",
       "      <td>19</td>\n",
       "    </tr>\n",
       "    <tr>\n",
       "      <th>45972</th>\n",
       "      <td>f01-085-05-08</td>\n",
       "      <td>ok</td>\n",
       "      <td>152</td>\n",
       "      <td>over-simplification</td>\n",
       "      <td>data/words/f01/f01-085/f01-085-05-08.png</td>\n",
       "      <td>19</td>\n",
       "    </tr>\n",
       "    <tr>\n",
       "      <th>5705</th>\n",
       "      <td>a02-050-00-04</td>\n",
       "      <td>err</td>\n",
       "      <td>203</td>\n",
       "      <td>counter-revolution</td>\n",
       "      <td>data/words/a02/a02-050/a02-050-00-04.png</td>\n",
       "      <td>18</td>\n",
       "    </tr>\n",
       "    <tr>\n",
       "      <th>32219</th>\n",
       "      <td>c06-111-02-01</td>\n",
       "      <td>ok</td>\n",
       "      <td>190</td>\n",
       "      <td>Marriage-Go-Round</td>\n",
       "      <td>data/words/c06/c06-111/c06-111-02-01.png</td>\n",
       "      <td>17</td>\n",
       "    </tr>\n",
       "  </tbody>\n",
       "</table>\n",
       "</div>"
      ],
      "text/plain": [
       "              word_id ok_err gray_level  \\\n",
       "107040  p02-109-01-00    err        175   \n",
       "93511   m02-059-05-06     ok        176   \n",
       "80838   j07-000-04-03     ok        130   \n",
       "102943  n04-092-03-01     ok        192   \n",
       "30311   c04-144-05-09     ok        181   \n",
       "69127   g06-109-02-00     ok        191   \n",
       "46266   f01-147-08-01     ok        159   \n",
       "45972   f01-085-05-08     ok        152   \n",
       "5705    a02-050-00-04    err        203   \n",
       "32219   c06-111-02-01     ok        190   \n",
       "\n",
       "                                               transcript  \\\n",
       "107040  ----------------------------------------------...   \n",
       "93511                               middle-income-bracket   \n",
       "80838                               plate-and-corrugation   \n",
       "102943                               Lieutenant-Commander   \n",
       "30311                                 brilliantly-written   \n",
       "69127                                 travelling-carriage   \n",
       "46266                                 neuro-physiologists   \n",
       "45972                                 over-simplification   \n",
       "5705                                   counter-revolution   \n",
       "32219                                   Marriage-Go-Round   \n",
       "\n",
       "                                       data_path  count_char  \n",
       "107040  data/words/p02/p02-109/p02-109-01-00.png          53  \n",
       "93511   data/words/m02/m02-059/m02-059-05-06.png          21  \n",
       "80838   data/words/j07/j07-000/j07-000-04-03.png          21  \n",
       "102943  data/words/n04/n04-092/n04-092-03-01.png          20  \n",
       "30311   data/words/c04/c04-144/c04-144-05-09.png          19  \n",
       "69127   data/words/g06/g06-109/g06-109-02-00.png          19  \n",
       "46266   data/words/f01/f01-147/f01-147-08-01.png          19  \n",
       "45972   data/words/f01/f01-085/f01-085-05-08.png          19  \n",
       "5705    data/words/a02/a02-050/a02-050-00-04.png          18  \n",
       "32219   data/words/c06/c06-111/c06-111-02-01.png          17  "
      ]
     },
     "execution_count": 6,
     "metadata": {},
     "output_type": "execute_result"
    }
   ],
   "source": [
    "# Affichage des 10 mots les plus longs\n",
    "df.sort_values('count_char', ascending = False).head(10)\n"
   ]
  },
  {
   "cell_type": "code",
   "execution_count": 7,
   "id": "96ba3250",
   "metadata": {},
   "outputs": [
    {
     "data": {
      "text/html": [
       "<div>\n",
       "<style scoped>\n",
       "    .dataframe tbody tr th:only-of-type {\n",
       "        vertical-align: middle;\n",
       "    }\n",
       "\n",
       "    .dataframe tbody tr th {\n",
       "        vertical-align: top;\n",
       "    }\n",
       "\n",
       "    .dataframe thead th {\n",
       "        text-align: right;\n",
       "    }\n",
       "</style>\n",
       "<table border=\"1\" class=\"dataframe\">\n",
       "  <thead>\n",
       "    <tr style=\"text-align: right;\">\n",
       "      <th></th>\n",
       "      <th>word_id</th>\n",
       "      <th>ok_err</th>\n",
       "      <th>gray_level</th>\n",
       "      <th>transcript</th>\n",
       "      <th>data_path</th>\n",
       "      <th>count_char</th>\n",
       "    </tr>\n",
       "  </thead>\n",
       "  <tbody>\n",
       "    <tr>\n",
       "      <th>0</th>\n",
       "      <td>a01-000u-00-00</td>\n",
       "      <td>ok</td>\n",
       "      <td>154</td>\n",
       "      <td>A</td>\n",
       "      <td>data/words/a01/a01-000u/a01-000u-00-00.png</td>\n",
       "      <td>1</td>\n",
       "    </tr>\n",
       "    <tr>\n",
       "      <th>53110</th>\n",
       "      <td>g01-037-06-07</td>\n",
       "      <td>ok</td>\n",
       "      <td>148</td>\n",
       "      <td>,</td>\n",
       "      <td>data/words/g01/g01-037/g01-037-06-07.png</td>\n",
       "      <td>1</td>\n",
       "    </tr>\n",
       "    <tr>\n",
       "      <th>53108</th>\n",
       "      <td>g01-037-06-05</td>\n",
       "      <td>ok</td>\n",
       "      <td>148</td>\n",
       "      <td>,</td>\n",
       "      <td>data/words/g01/g01-037/g01-037-06-05.png</td>\n",
       "      <td>1</td>\n",
       "    </tr>\n",
       "    <tr>\n",
       "      <th>53105</th>\n",
       "      <td>g01-037-06-02</td>\n",
       "      <td>ok</td>\n",
       "      <td>148</td>\n",
       "      <td>,</td>\n",
       "      <td>data/words/g01/g01-037/g01-037-06-02.png</td>\n",
       "      <td>1</td>\n",
       "    </tr>\n",
       "    <tr>\n",
       "      <th>53094</th>\n",
       "      <td>g01-037-04-06</td>\n",
       "      <td>ok</td>\n",
       "      <td>145</td>\n",
       "      <td>,</td>\n",
       "      <td>data/words/g01/g01-037/g01-037-04-06.png</td>\n",
       "      <td>1</td>\n",
       "    </tr>\n",
       "    <tr>\n",
       "      <th>53085</th>\n",
       "      <td>g01-037-03-04</td>\n",
       "      <td>ok</td>\n",
       "      <td>148</td>\n",
       "      <td>,</td>\n",
       "      <td>data/words/g01/g01-037/g01-037-03-04.png</td>\n",
       "      <td>1</td>\n",
       "    </tr>\n",
       "    <tr>\n",
       "      <th>53067</th>\n",
       "      <td>g01-037-01-03</td>\n",
       "      <td>ok</td>\n",
       "      <td>149</td>\n",
       "      <td>-</td>\n",
       "      <td>data/words/g01/g01-037/g01-037-01-03.png</td>\n",
       "      <td>1</td>\n",
       "    </tr>\n",
       "    <tr>\n",
       "      <th>53066</th>\n",
       "      <td>g01-037-01-02</td>\n",
       "      <td>ok</td>\n",
       "      <td>149</td>\n",
       "      <td>'</td>\n",
       "      <td>data/words/g01/g01-037/g01-037-01-02.png</td>\n",
       "      <td>1</td>\n",
       "    </tr>\n",
       "    <tr>\n",
       "      <th>53064</th>\n",
       "      <td>g01-037-01-00</td>\n",
       "      <td>ok</td>\n",
       "      <td>149</td>\n",
       "      <td>'</td>\n",
       "      <td>data/words/g01/g01-037/g01-037-01-00.png</td>\n",
       "      <td>1</td>\n",
       "    </tr>\n",
       "    <tr>\n",
       "      <th>53061</th>\n",
       "      <td>g01-037-00-06</td>\n",
       "      <td>ok</td>\n",
       "      <td>149</td>\n",
       "      <td>'</td>\n",
       "      <td>data/words/g01/g01-037/g01-037-00-06.png</td>\n",
       "      <td>1</td>\n",
       "    </tr>\n",
       "  </tbody>\n",
       "</table>\n",
       "</div>"
      ],
      "text/plain": [
       "              word_id ok_err gray_level transcript  \\\n",
       "0      a01-000u-00-00     ok        154          A   \n",
       "53110   g01-037-06-07     ok        148          ,   \n",
       "53108   g01-037-06-05     ok        148          ,   \n",
       "53105   g01-037-06-02     ok        148          ,   \n",
       "53094   g01-037-04-06     ok        145          ,   \n",
       "53085   g01-037-03-04     ok        148          ,   \n",
       "53067   g01-037-01-03     ok        149          -   \n",
       "53066   g01-037-01-02     ok        149          '   \n",
       "53064   g01-037-01-00     ok        149          '   \n",
       "53061   g01-037-00-06     ok        149          '   \n",
       "\n",
       "                                        data_path  count_char  \n",
       "0      data/words/a01/a01-000u/a01-000u-00-00.png           1  \n",
       "53110    data/words/g01/g01-037/g01-037-06-07.png           1  \n",
       "53108    data/words/g01/g01-037/g01-037-06-05.png           1  \n",
       "53105    data/words/g01/g01-037/g01-037-06-02.png           1  \n",
       "53094    data/words/g01/g01-037/g01-037-04-06.png           1  \n",
       "53085    data/words/g01/g01-037/g01-037-03-04.png           1  \n",
       "53067    data/words/g01/g01-037/g01-037-01-03.png           1  \n",
       "53066    data/words/g01/g01-037/g01-037-01-02.png           1  \n",
       "53064    data/words/g01/g01-037/g01-037-01-00.png           1  \n",
       "53061    data/words/g01/g01-037/g01-037-00-06.png           1  "
      ]
     },
     "execution_count": 7,
     "metadata": {},
     "output_type": "execute_result"
    }
   ],
   "source": [
    "# Affichage des 10 mots les plus courts\n",
    "df.sort_values('count_char', ascending = True).head(10)\n"
   ]
  },
  {
   "cell_type": "code",
   "execution_count": 8,
   "id": "211d37b8",
   "metadata": {},
   "outputs": [
    {
     "data": {
      "image/png": "[encoded data removed]",
      "text/plain": [
       "<Figure size 864x720 with 1 Axes>"
      ]
     },
     "metadata": {
      "needs_background": "light"
     },
     "output_type": "display_data"
    }
   ],
   "source": [
    "# Afficher le pourcentage des mots en erreurs\n",
    "plt.subplots(figsize= (12,10))\n",
    "sns.histplot(x = 'ok_err',data = df,hue ='ok_err', shrink = 0.8);\n",
    "plt.title('Proportion des mots ayant une erreur de segmentation');\n",
    "plt.xlabel('Statut de la segmentation')\n",
    "plt.legend('')\n",
    "plt.ylabel('Total');\n"
   ]
  },
  {
   "cell_type": "code",
   "execution_count": 9,
   "id": "881b6b17",
   "metadata": {},
   "outputs": [
    {
     "data": {
      "text/plain": [
       "3     22087\n",
       "1     18079\n",
       "2     17605\n",
       "4     16469\n",
       "5     11275\n",
       "6      8322\n",
       "7      7336\n",
       "8      5212\n",
       "9      3782\n",
       "10     2443\n",
       "11     1310\n",
       "12      760\n",
       "13      368\n",
       "14      172\n",
       "15       46\n",
       "16       37\n",
       "17        8\n",
       "19        4\n",
       "21        2\n",
       "18        1\n",
       "20        1\n",
       "53        1\n",
       "Name: count_char, dtype: int64"
      ]
     },
     "execution_count": 9,
     "metadata": {},
     "output_type": "execute_result"
    }
   ],
   "source": [
    "df[\"count_char\"].value_counts()"
   ]
  },
  {
   "cell_type": "code",
   "execution_count": 10,
   "id": "fc65c77c",
   "metadata": {},
   "outputs": [
    {
     "data": {
      "image/png": "[encoded data removed]",
      "text/plain": [
       "<Figure size 1008x576 with 1 Axes>"
      ]
     },
     "metadata": {
      "needs_background": "light"
     },
     "output_type": "display_data"
    }
   ],
   "source": [
    "# Distribution du nombre de caractères par transcription\n",
    "bins_edges = np.histogram_bin_edges(df[\"count_char\"], bins = 30 )\n",
    "plt.subplots(figsize= (14,8))\n",
    "sns.histplot(data = df[\"count_char\"], bins = 30,shrink = 0.9 )\n",
    "plt.xticks(bins_edges[:10])\n",
    "plt.xlabel(\"Nombre de caractères\")\n",
    "plt.xlim(0, 21)\n",
    "plt.title('distribution du nombre de caractères par transcription');"
   ]
  },
  {
   "cell_type": "code",
   "execution_count": 11,
   "id": "3b6c3189",
   "metadata": {},
   "outputs": [
    {
     "name": "stdout",
     "output_type": "stream",
     "text": [
      "Proportion des mots de moins de 10 caractères dans le dataset :  97.65001734304543\n"
     ]
    }
   ],
   "source": [
    "print(\"Proportion des mots de moins de 10 caractères dans le dataset : \",len(df[df.count_char <=10])*100/len(df))"
   ]
  },
  {
   "cell_type": "code",
   "execution_count": 13,
   "id": "7688b800",
   "metadata": {},
   "outputs": [
    {
     "data": {
      "image/png": "[encoded data removed]",
      "text/plain": [
       "<Figure size 1008x432 with 1 Axes>"
      ]
     },
     "metadata": {
      "needs_background": "light"
     },
     "output_type": "display_data"
    }
   ],
   "source": [
    "# Distribution du nombre de caractères par transcription\n",
    "#bins_edges = np.histogram_bin_edges(df[\"count_char\"], bins = 30 )\n",
    "plt.subplots(figsize= (14,6))\n",
    "sns.countplot(x ='count_char', data = df)\n",
    "#plt.xticks(bins_edges[:10])\n",
    "plt.xlabel(\"Nombre de caractères par mot\")\n",
    "#plt.xlim(0, 20)\n",
    "plt.title('distribution du nombre de caractères par transcription');"
   ]
  },
  {
   "cell_type": "code",
   "execution_count": 15,
   "id": "bfb7aed8",
   "metadata": {},
   "outputs": [
    {
     "data": {
      "image/png": "[encoded data removed]",
      "text/plain": [
       "<Figure size 1008x648 with 1 Axes>"
      ]
     },
     "metadata": {
      "needs_background": "light"
     },
     "output_type": "display_data"
    }
   ],
   "source": [
    "# Distribution du nombre de caractères par transcription\n",
    "#bins_edges = np.histogram_bin_edges(df[\"count_char\"], bins = 30 )\n",
    "plt.subplots(figsize= (14,9))\n",
    "sns.countplot(x ='count_char', data = df,hue = 'ok_err')\n",
    "#plt.xticks(bins_edges[:10])\n",
    "plt.xlabel(\"Nombre de caractères par mot\")\n",
    "#plt.xlim(0, 20)\n",
    "plt.title('distribution du nombre de caractères par transcription suivant le statut de segmentation');"
   ]
  },
  {
   "cell_type": "code",
   "execution_count": 16,
   "id": "37e9a25b",
   "metadata": {},
   "outputs": [
    {
     "data": {
      "text/html": [
       "<div>\n",
       "<style scoped>\n",
       "    .dataframe tbody tr th:only-of-type {\n",
       "        vertical-align: middle;\n",
       "    }\n",
       "\n",
       "    .dataframe tbody tr th {\n",
       "        vertical-align: top;\n",
       "    }\n",
       "\n",
       "    .dataframe thead th {\n",
       "        text-align: right;\n",
       "    }\n",
       "</style>\n",
       "<table border=\"1\" class=\"dataframe\">\n",
       "  <thead>\n",
       "    <tr style=\"text-align: right;\">\n",
       "      <th></th>\n",
       "      <th>count_char</th>\n",
       "    </tr>\n",
       "  </thead>\n",
       "  <tbody>\n",
       "    <tr>\n",
       "      <th>1</th>\n",
       "      <td>3895</td>\n",
       "    </tr>\n",
       "    <tr>\n",
       "      <th>3</th>\n",
       "      <td>3432</td>\n",
       "    </tr>\n",
       "    <tr>\n",
       "      <th>2</th>\n",
       "      <td>2793</td>\n",
       "    </tr>\n",
       "    <tr>\n",
       "      <th>4</th>\n",
       "      <td>2610</td>\n",
       "    </tr>\n",
       "    <tr>\n",
       "      <th>5</th>\n",
       "      <td>1735</td>\n",
       "    </tr>\n",
       "    <tr>\n",
       "      <th>6</th>\n",
       "      <td>1313</td>\n",
       "    </tr>\n",
       "    <tr>\n",
       "      <th>7</th>\n",
       "      <td>1027</td>\n",
       "    </tr>\n",
       "    <tr>\n",
       "      <th>8</th>\n",
       "      <td>787</td>\n",
       "    </tr>\n",
       "    <tr>\n",
       "      <th>9</th>\n",
       "      <td>526</td>\n",
       "    </tr>\n",
       "    <tr>\n",
       "      <th>10</th>\n",
       "      <td>344</td>\n",
       "    </tr>\n",
       "    <tr>\n",
       "      <th>11</th>\n",
       "      <td>171</td>\n",
       "    </tr>\n",
       "    <tr>\n",
       "      <th>12</th>\n",
       "      <td>118</td>\n",
       "    </tr>\n",
       "    <tr>\n",
       "      <th>13</th>\n",
       "      <td>63</td>\n",
       "    </tr>\n",
       "    <tr>\n",
       "      <th>14</th>\n",
       "      <td>26</td>\n",
       "    </tr>\n",
       "    <tr>\n",
       "      <th>16</th>\n",
       "      <td>11</td>\n",
       "    </tr>\n",
       "    <tr>\n",
       "      <th>15</th>\n",
       "      <td>7</td>\n",
       "    </tr>\n",
       "    <tr>\n",
       "      <th>17</th>\n",
       "      <td>4</td>\n",
       "    </tr>\n",
       "    <tr>\n",
       "      <th>53</th>\n",
       "      <td>1</td>\n",
       "    </tr>\n",
       "    <tr>\n",
       "      <th>18</th>\n",
       "      <td>1</td>\n",
       "    </tr>\n",
       "  </tbody>\n",
       "</table>\n",
       "</div>"
      ],
      "text/plain": [
       "    count_char\n",
       "1         3895\n",
       "3         3432\n",
       "2         2793\n",
       "4         2610\n",
       "5         1735\n",
       "6         1313\n",
       "7         1027\n",
       "8          787\n",
       "9          526\n",
       "10         344\n",
       "11         171\n",
       "12         118\n",
       "13          63\n",
       "14          26\n",
       "16          11\n",
       "15           7\n",
       "17           4\n",
       "53           1\n",
       "18           1"
      ]
     },
     "execution_count": 16,
     "metadata": {},
     "output_type": "execute_result"
    }
   ],
   "source": [
    "df_err = pd.DataFrame(df[df.ok_err=='err'][\"count_char\"].value_counts())\n",
    "df_err.head(20)"
   ]
  },
  {
   "cell_type": "code",
   "execution_count": 19,
   "id": "29cc9455",
   "metadata": {},
   "outputs": [
    {
     "data": {
      "image/png": "[encoded data removed]",
      "text/plain": [
       "<Figure size 1008x576 with 1 Axes>"
      ]
     },
     "metadata": {
      "needs_background": "light"
     },
     "output_type": "display_data"
    }
   ],
   "source": [
    "\n",
    "df_err.plot(kind = 'bar', figsize = (14,8))\n",
    "plt.xticks(rotation = '0');\n",
    "plt.xlabel(\"Nombre de caractères\");\n",
    "plt.ylabel('Pourcentage');\n",
    "plt.title('distribution du nombre de caractères pour les transcriptions ayant une erreur de segmentation');"
   ]
  },
  {
   "cell_type": "code",
   "execution_count": 20,
   "id": "d92e81e6",
   "metadata": {},
   "outputs": [
    {
     "data": {
      "image/png": "[encoded data removed]",
      "text/plain": [
       "<Figure size 1008x576 with 1 Axes>"
      ]
     },
     "metadata": {
      "needs_background": "light"
     },
     "output_type": "display_data"
    }
   ],
   "source": [
    "# Afficher pour quelles longueurs de mots a t'on le plus d'erreurs\n",
    "bins_edges = np.histogram_bin_edges(df[df.ok_err=='err'][\"count_char\"], bins = 20 )\n",
    "plt.subplots(figsize= (14,8))\n",
    "sns.histplot(data = df[df.ok_err=='err'][\"count_char\"], bins = 20,shrink = 0.9 )\n",
    "plt.xticks(bins_edges[:10])\n",
    "plt.xlabel(\"Nombre de caractères\")\n",
    "plt.xlim(0, 21)\n",
    "plt.title('distribution du nombre de caractères par transcription ayant une erreur de segmentation');"
   ]
  }
 ],
 "metadata": {
  "kernelspec": {
   "display_name": "Python 3",
   "language": "python",
   "name": "python3"
  },
  "language_info": {
   "codemirror_mode": {
    "name": "ipython",
    "version": 3
   },
   "file_extension": ".py",
   "mimetype": "text/x-python",
   "name": "python",
   "nbconvert_exporter": "python",
   "pygments_lexer": "ipython3",
   "version": "3.8.8"
  }
 },
 "nbformat": 4,
 "nbformat_minor": 5
}
