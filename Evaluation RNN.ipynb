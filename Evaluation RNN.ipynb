{
 "cells": [
  {
   "cell_type": "code",
   "execution_count": 1,
   "id": "428c31d3",
   "metadata": {},
   "outputs": [
    {
     "name": "stdout",
     "output_type": "stream",
     "text": [
      "Init Plugin\n",
      "Init Graph Optimizer\n",
      "Init Kernel\n"
     ]
    }
   ],
   "source": [
    "import numpy as np\n",
    "import pandas as pd\n",
    "\n",
    "import string\n",
    "\n",
    "import matplotlib.pyplot as plt\n",
    "import cv2\n",
    "\n",
    "import tensorflow \n",
    "from tensorflow import keras\n",
    "\n",
    "# fonctions de récupération et préparation des données\n",
    "import traintestsplit as tts\n",
    "from words_txt_to_df import txt_to_df\n",
    "from nettoyage_fichiers import clean_data, error_image\n",
    "from harmonisation import harmony_clean\n",
    "from keep_n_chars import max_n_chars\n",
    "\n",
    "# Générateur de batchs\n",
    "from  generator_rnn import DatasetGenerator\n",
    "\n",
    "# Modèlisation\n",
    "import rnn_model\n",
    "\n",
    "# Décodage\n",
    "import rnn_pred \n",
    "\n",
    "import evaluation\n",
    "\n",
    "# Reproductibilité\n",
    "from numpy.random import seed\n",
    "seed(64)\n",
    "from tensorflow import random\n",
    "random.set_seed(8)"
   ]
  },
  {
   "cell_type": "markdown",
   "id": "0efb4683",
   "metadata": {},
   "source": [
    "# Récupération des données et du modèle"
   ]
  },
  {
   "cell_type": "code",
   "execution_count": 2,
   "id": "2aa47190",
   "metadata": {},
   "outputs": [
    {
     "name": "stdout",
     "output_type": "stream",
     "text": [
      "Lecture de words.txt et transformation en dataframe\n",
      "Suppression des erreurs de lecture d'image du df\n",
      "Erreur de lecture sur l'image: a01-117-05-02.png\n",
      "Erreur de lecture sur l'image: r06-022-03-05.png\n",
      "génération d'un dataframe contenant la répartition du dataset [line_id,set]\n",
      "Split des données\n",
      "Préparation des données\n",
      "Construction du modèle\n",
      "Metal device set to: Apple M1\n",
      "WARNING:tensorflow:Layer blstm1 will not use cuDNN kernels since it doesn't meet the criteria. It will use a generic GPU kernel as fallback when running on GPU.\n",
      "WARNING:tensorflow:Layer blstm1 will not use cuDNN kernels since it doesn't meet the criteria. It will use a generic GPU kernel as fallback when running on GPU.\n",
      "WARNING:tensorflow:Layer blstm1 will not use cuDNN kernels since it doesn't meet the criteria. It will use a generic GPU kernel as fallback when running on GPU.\n",
      "WARNING:tensorflow:Layer blstm2 will not use cuDNN kernels since it doesn't meet the criteria. It will use a generic GPU kernel as fallback when running on GPU.\n",
      "WARNING:tensorflow:Layer blstm2 will not use cuDNN kernels since it doesn't meet the criteria. It will use a generic GPU kernel as fallback when running on GPU.\n",
      "WARNING:tensorflow:Layer blstm2 will not use cuDNN kernels since it doesn't meet the criteria. It will use a generic GPU kernel as fallback when running on GPU.\n"
     ]
    },
    {
     "name": "stderr",
     "output_type": "stream",
     "text": [
      "2021-12-16 13:04:21.327557: I tensorflow/core/common_runtime/pluggable_device/pluggable_device_factory.cc:305] Could not identify NUMA node of platform GPU ID 0, defaulting to 0. Your kernel may not have been built with NUMA support.\n",
      "2021-12-16 13:04:21.327643: I tensorflow/core/common_runtime/pluggable_device/pluggable_device_factory.cc:271] Created TensorFlow device (/job:localhost/replica:0/task:0/device:GPU:0 with 0 MB memory) -> physical PluggableDevice (device: 0, name: METAL, pci bus id: <undefined>)\n"
     ]
    },
    {
     "name": "stdout",
     "output_type": "stream",
     "text": [
      "Model: \"rnn2\"\n",
      "__________________________________________________________________________________________________\n",
      "Layer (type)                    Output Shape         Param #     Connected to                     \n",
      "==================================================================================================\n",
      "input_im (InputLayer)           [(None, 32, 128, 1)] 0                                            \n",
      "__________________________________________________________________________________________________\n",
      "conv_1 (Conv2D)                 (None, 16, 64, 64)   5248        input_im[0][0]                   \n",
      "__________________________________________________________________________________________________\n",
      "batch_normalization (BatchNorma (None, 16, 64, 64)   256         conv_1[0][0]                     \n",
      "__________________________________________________________________________________________________\n",
      "activation (Activation)         (None, 16, 64, 64)   0           batch_normalization[0][0]        \n",
      "__________________________________________________________________________________________________\n",
      "conv_2 (Conv2D)                 (None, 12, 60, 128)  204928      activation[0][0]                 \n",
      "__________________________________________________________________________________________________\n",
      "batch_normalization_1 (BatchNor (None, 12, 60, 128)  512         conv_2[0][0]                     \n",
      "__________________________________________________________________________________________________\n",
      "activation_1 (Activation)       (None, 12, 60, 128)  0           batch_normalization_1[0][0]      \n",
      "__________________________________________________________________________________________________\n",
      "pool2 (MaxPooling2D)            (None, 6, 30, 128)   0           activation_1[0][0]               \n",
      "__________________________________________________________________________________________________\n",
      "conv_3 (Conv2D)                 (None, 4, 28, 256)   295168      pool2[0][0]                      \n",
      "__________________________________________________________________________________________________\n",
      "batch_normalization_2 (BatchNor (None, 4, 28, 256)   1024        conv_3[0][0]                     \n",
      "__________________________________________________________________________________________________\n",
      "activation_2 (Activation)       (None, 4, 28, 256)   0           batch_normalization_2[0][0]      \n",
      "__________________________________________________________________________________________________\n",
      "max_pool2 (MaxPooling2D)        (None, 2, 14, 256)   0           activation_2[0][0]               \n",
      "__________________________________________________________________________________________________\n",
      "reshape (Reshape)               (None, 1, 14, 512)   0           max_pool2[0][0]                  \n",
      "__________________________________________________________________________________________________\n",
      "lambda (Lambda)                 (None, 14, 512)      0           reshape[0][0]                    \n",
      "__________________________________________________________________________________________________\n",
      "dense_2 (Dense)                 (None, 14, 128)      65664       lambda[0][0]                     \n",
      "__________________________________________________________________________________________________\n",
      "activation_4 (Activation)       (None, 14, 128)      0           dense_2[0][0]                    \n",
      "__________________________________________________________________________________________________\n",
      "batch_normalization_4 (BatchNor (None, 14, 128)      512         activation_4[0][0]               \n",
      "__________________________________________________________________________________________________\n",
      "dropout_1 (Dropout)             (None, 14, 128)      0           batch_normalization_4[0][0]      \n",
      "__________________________________________________________________________________________________\n",
      "bidirectional (Bidirectional)   (None, 14, 128)      98816       dropout_1[0][0]                  \n",
      "__________________________________________________________________________________________________\n",
      "bidirectional_1 (Bidirectional) (None, 14, 128)      98816       bidirectional[0][0]              \n",
      "__________________________________________________________________________________________________\n",
      "labels (InputLayer)             [(None, None)]       0                                            \n",
      "__________________________________________________________________________________________________\n",
      "dense (Dense)                   (None, 14, 84)       10836       bidirectional_1[0][0]            \n",
      "__________________________________________________________________________________________________\n",
      "label_length (InputLayer)       [(None, None)]       0                                            \n",
      "__________________________________________________________________________________________________\n",
      "ctc_batch_cost (CTCLayer)       (None, 14, 84)       0           labels[0][0]                     \n",
      "                                                                 dense[0][0]                      \n",
      "                                                                 label_length[0][0]               \n",
      "==================================================================================================\n",
      "Total params: 781,780\n",
      "Trainable params: 780,628\n",
      "Non-trainable params: 1,152\n",
      "__________________________________________________________________________________________________\n",
      "None\n"
     ]
    }
   ],
   "source": [
    "print(\"Lecture de words.txt et transformation en dataframe\") \n",
    "#[word_id,ok_err,gray_level,transcript,data_path]\n",
    "df_words = txt_to_df('words.txt')\n",
    "\n",
    "print(\"Suppression des erreurs de lecture d'image du df\")\n",
    "df_words = clean_data(df_words)\n",
    "\n",
    "print(\"génération d'un dataframe contenant la répartition du dataset [line_id,set]\")\n",
    "df_tts = tts.text_to_splitDataframe()\n",
    "\n",
    "print(\"Split des données\")\n",
    "trainset, testset, validationset = tts.split_data(df_tts, df_words)\n",
    "    \n",
    "# Variables utiles\n",
    "BATCH_SIZE = 100 # 32 par défaut\n",
    "TARGET_SIZE = (128,32) \n",
    "MAX_LENGTH = 10 # 21 par défaut\n",
    "    \n",
    "# Suppression des mots plus longs que MAX_LENGTH \n",
    "trainset = max_n_chars(trainset, MAX_LENGTH)\n",
    "testset = max_n_chars(testset, MAX_LENGTH)\n",
    "validationset = max_n_chars(validationset, MAX_LENGTH)\n",
    "    \n",
    "# Préparation des données\n",
    "print(\"Préparation des données\")\n",
    "    \n",
    "# Tranformation des images par lots\n",
    "train_generator = DatasetGenerator(dataframe=trainset,\n",
    "                                   directory=\"\",\n",
    "                                   x_col = \"data_path\",\n",
    "                                   y_col = \"transcript\",\n",
    "                                   targetSize = TARGET_SIZE,\n",
    "                                   nb_canaux = 1, # images grayscale par défaut\n",
    "                                   batchSize = BATCH_SIZE,\n",
    "                                   shuffle = False,\n",
    "                                   max_y_length = MAX_LENGTH)\n",
    "\n",
    "# Idem pour le jeu de validation\n",
    "valid_generator = DatasetGenerator(dataframe=validationset,\n",
    "                                   x_col = \"data_path\",\n",
    "                                   y_col = \"transcript\", \n",
    "                                   targetSize = TARGET_SIZE,  \n",
    "                                   shuffle = False, \n",
    "                                   max_y_length = MAX_LENGTH)\n",
    "\n",
    "# Et le jeu de test\n",
    "test_generator = DatasetGenerator(dataframe=testset,\n",
    "                                  x_col = \"data_path\",\n",
    "                                  y_col = \"transcript\", \n",
    "                                  targetSize = TARGET_SIZE,  \n",
    "                                  shuffle = False, \n",
    "                                  max_y_length = MAX_LENGTH)\n",
    "    \n",
    "print(\"Construction du modèle\")\n",
    "rnn = rnn_model.build_model_rnn(TARGET_SIZE)\n",
    "\n",
    "rnn.load_weights('rnn.weights.h5')\n"
   ]
  },
  {
   "cell_type": "markdown",
   "id": "cc428c61",
   "metadata": {},
   "source": [
    "# Prédictions sur les données test"
   ]
  },
  {
   "cell_type": "code",
   "execution_count": 3,
   "id": "198cb045",
   "metadata": {},
   "outputs": [
    {
     "name": "stderr",
     "output_type": "stream",
     "text": [
      "2021-12-16 13:04:21.648143: I tensorflow/compiler/mlir/mlir_graph_optimization_pass.cc:176] None of the MLIR Optimization Passes are enabled (registered 2)\n",
      "2021-12-16 13:04:21.648265: W tensorflow/core/platform/profile_utils/cpu_utils.cc:128] Failed to get CPU frequency: 0 Hz\n",
      "2021-12-16 13:04:21.811182: I tensorflow/core/grappler/optimizers/custom_graph_optimizer_registry.cc:112] Plugin optimizer for device_type GPU is enabled.\n",
      "/Users/sophieamedro/Desktop/PenPyText/rnn_pred.py:56: SettingWithCopyWarning: \n",
      "A value is trying to be set on a copy of a slice from a DataFrame\n",
      "\n",
      "See the caveats in the documentation: https://pandas.pydata.org/pandas-docs/stable/user_guide/indexing.html#returning-a-view-versus-a-copy\n",
      "  top5_rnn[top5_rnn.columns[t]][i] = ''.join(mot)\n",
      "/opt/homebrew/Caskroom/miniforge/base/envs/m1tf/lib/python3.9/site-packages/pandas/core/indexing.py:1732: SettingWithCopyWarning: \n",
      "A value is trying to be set on a copy of a slice from a DataFrame\n",
      "\n",
      "See the caveats in the documentation: https://pandas.pydata.org/pandas-docs/stable/user_guide/indexing.html#returning-a-view-versus-a-copy\n",
      "  self._setitem_single_block(indexer, value, name)\n"
     ]
    },
    {
     "data": {
      "text/html": [
       "<div>\n",
       "<style scoped>\n",
       "    .dataframe tbody tr th:only-of-type {\n",
       "        vertical-align: middle;\n",
       "    }\n",
       "\n",
       "    .dataframe tbody tr th {\n",
       "        vertical-align: top;\n",
       "    }\n",
       "\n",
       "    .dataframe thead th {\n",
       "        text-align: right;\n",
       "    }\n",
       "</style>\n",
       "<table border=\"1\" class=\"dataframe\">\n",
       "  <thead>\n",
       "    <tr style=\"text-align: right;\">\n",
       "      <th></th>\n",
       "      <th>data_path</th>\n",
       "      <th>predict_1</th>\n",
       "      <th>predict_2</th>\n",
       "      <th>predict_3</th>\n",
       "      <th>predict_4</th>\n",
       "      <th>predict_5</th>\n",
       "    </tr>\n",
       "  </thead>\n",
       "  <tbody>\n",
       "    <tr>\n",
       "      <th>0</th>\n",
       "      <td>data/words/m01/m01-049/m01-049-00-00.png</td>\n",
       "      <td>He</td>\n",
       "      <td>Hhe</td>\n",
       "      <td>tHe</td>\n",
       "      <td>Hre</td>\n",
       "      <td>te</td>\n",
       "    </tr>\n",
       "    <tr>\n",
       "      <th>1</th>\n",
       "      <td>data/words/m01/m01-049/m01-049-00-01.png</td>\n",
       "      <td>lie</td>\n",
       "      <td>lile</td>\n",
       "      <td>Wie</td>\n",
       "      <td>Kie</td>\n",
       "      <td>Wile</td>\n",
       "    </tr>\n",
       "    <tr>\n",
       "      <th>2</th>\n",
       "      <td>data/words/m01/m01-049/m01-049-00-02.png</td>\n",
       "      <td>frm</td>\n",
       "      <td>frn</td>\n",
       "      <td>firm</td>\n",
       "      <td>form</td>\n",
       "      <td>frem</td>\n",
       "    </tr>\n",
       "    <tr>\n",
       "      <th>3</th>\n",
       "      <td>data/words/m01/m01-049/m01-049-00-03.png</td>\n",
       "      <td>his</td>\n",
       "      <td>hns</td>\n",
       "      <td>hs</td>\n",
       "      <td>hi</td>\n",
       "      <td>hms</td>\n",
       "    </tr>\n",
       "    <tr>\n",
       "      <th>4</th>\n",
       "      <td>data/words/m01/m01-049/m01-049-00-05.png</td>\n",
       "      <td>Wek</td>\n",
       "      <td>Lek</td>\n",
       "      <td>Wak</td>\n",
       "      <td>lek</td>\n",
       "      <td>Lak</td>\n",
       "    </tr>\n",
       "  </tbody>\n",
       "</table>\n",
       "</div>"
      ],
      "text/plain": [
       "                                  data_path predict_1 predict_2 predict_3  \\\n",
       "0  data/words/m01/m01-049/m01-049-00-00.png        He       Hhe       tHe   \n",
       "1  data/words/m01/m01-049/m01-049-00-01.png       lie      lile       Wie   \n",
       "2  data/words/m01/m01-049/m01-049-00-02.png       frm       frn      firm   \n",
       "3  data/words/m01/m01-049/m01-049-00-03.png       his       hns        hs   \n",
       "4  data/words/m01/m01-049/m01-049-00-05.png       Wek       Lek       Wak   \n",
       "\n",
       "  predict_4 predict_5  \n",
       "0       Hre        te  \n",
       "1       Kie      Wile  \n",
       "2      form      frem  \n",
       "3        hi       hms  \n",
       "4       lek       Lak  "
      ]
     },
     "execution_count": 3,
     "metadata": {},
     "output_type": "execute_result"
    }
   ],
   "source": [
    "predictions = rnn.predict(test_generator)\n",
    "pred_key = rnn_pred.pred_top5(predictions, MAX_LENGTH)\n",
    "df_top5 = rnn_pred.df_bilan_top5(testset, pred_key)\n",
    "df_top5.head()"
   ]
  },
  {
   "cell_type": "markdown",
   "id": "7d17437c",
   "metadata": {},
   "source": [
    "# Evaluation du modèle"
   ]
  },
  {
   "cell_type": "markdown",
   "id": "54e2d9cd",
   "metadata": {},
   "source": [
    "## première prédiction"
   ]
  },
  {
   "cell_type": "code",
   "execution_count": 4,
   "id": "ad5c4d5d",
   "metadata": {},
   "outputs": [
    {
     "data": {
      "text/html": [
       "<div>\n",
       "<style scoped>\n",
       "    .dataframe tbody tr th:only-of-type {\n",
       "        vertical-align: middle;\n",
       "    }\n",
       "\n",
       "    .dataframe tbody tr th {\n",
       "        vertical-align: top;\n",
       "    }\n",
       "\n",
       "    .dataframe thead th {\n",
       "        text-align: right;\n",
       "    }\n",
       "</style>\n",
       "<table border=\"1\" class=\"dataframe\">\n",
       "  <thead>\n",
       "    <tr style=\"text-align: right;\">\n",
       "      <th></th>\n",
       "      <th>data_path</th>\n",
       "      <th>predict_1</th>\n",
       "      <th>predict_2</th>\n",
       "      <th>predict_3</th>\n",
       "      <th>predict_4</th>\n",
       "      <th>predict_5</th>\n",
       "      <th>transcript</th>\n",
       "      <th>transcript_is_pred1</th>\n",
       "    </tr>\n",
       "  </thead>\n",
       "  <tbody>\n",
       "    <tr>\n",
       "      <th>0</th>\n",
       "      <td>data/words/m01/m01-049/m01-049-00-00.png</td>\n",
       "      <td>He</td>\n",
       "      <td>Hhe</td>\n",
       "      <td>tHe</td>\n",
       "      <td>Hre</td>\n",
       "      <td>te</td>\n",
       "      <td>He</td>\n",
       "      <td>True</td>\n",
       "    </tr>\n",
       "    <tr>\n",
       "      <th>1</th>\n",
       "      <td>data/words/m01/m01-049/m01-049-00-01.png</td>\n",
       "      <td>lie</td>\n",
       "      <td>lile</td>\n",
       "      <td>Wie</td>\n",
       "      <td>Kie</td>\n",
       "      <td>Wile</td>\n",
       "      <td>rose</td>\n",
       "      <td>False</td>\n",
       "    </tr>\n",
       "    <tr>\n",
       "      <th>2</th>\n",
       "      <td>data/words/m01/m01-049/m01-049-00-02.png</td>\n",
       "      <td>frm</td>\n",
       "      <td>frn</td>\n",
       "      <td>firm</td>\n",
       "      <td>form</td>\n",
       "      <td>frem</td>\n",
       "      <td>from</td>\n",
       "      <td>False</td>\n",
       "    </tr>\n",
       "    <tr>\n",
       "      <th>3</th>\n",
       "      <td>data/words/m01/m01-049/m01-049-00-03.png</td>\n",
       "      <td>his</td>\n",
       "      <td>hns</td>\n",
       "      <td>hs</td>\n",
       "      <td>hi</td>\n",
       "      <td>hms</td>\n",
       "      <td>his</td>\n",
       "      <td>True</td>\n",
       "    </tr>\n",
       "    <tr>\n",
       "      <th>4</th>\n",
       "      <td>data/words/m01/m01-049/m01-049-00-05.png</td>\n",
       "      <td>Wek</td>\n",
       "      <td>Lek</td>\n",
       "      <td>Wak</td>\n",
       "      <td>lek</td>\n",
       "      <td>Lak</td>\n",
       "      <td>bench</td>\n",
       "      <td>False</td>\n",
       "    </tr>\n",
       "  </tbody>\n",
       "</table>\n",
       "</div>"
      ],
      "text/plain": [
       "                                  data_path predict_1 predict_2 predict_3  \\\n",
       "0  data/words/m01/m01-049/m01-049-00-00.png        He       Hhe       tHe   \n",
       "1  data/words/m01/m01-049/m01-049-00-01.png       lie      lile       Wie   \n",
       "2  data/words/m01/m01-049/m01-049-00-02.png       frm       frn      firm   \n",
       "3  data/words/m01/m01-049/m01-049-00-03.png       his       hns        hs   \n",
       "4  data/words/m01/m01-049/m01-049-00-05.png       Wek       Lek       Wak   \n",
       "\n",
       "  predict_4 predict_5 transcript transcript_is_pred1  \n",
       "0       Hre        te         He                True  \n",
       "1       Kie      Wile       rose               False  \n",
       "2      form      frem       from               False  \n",
       "3        hi       hms        his                True  \n",
       "4       lek       Lak      bench               False  "
      ]
     },
     "execution_count": 4,
     "metadata": {},
     "output_type": "execute_result"
    }
   ],
   "source": [
    "df_top5['transcript'] = testset.transcript\n",
    "df_top5['transcript_is_pred1'] = None\n",
    "\n",
    "for i in range(df_top5.shape[0]):\n",
    "    df_top5.transcript_is_pred1[i] = evaluation.transcript_in_pred1(df_top5, i)\n",
    "df_top5.head()"
   ]
  },
  {
   "cell_type": "code",
   "execution_count": 5,
   "id": "e151b1a8",
   "metadata": {},
   "outputs": [
    {
     "data": {
      "text/plain": [
       "False    0.567334\n",
       "True     0.432666\n",
       "Name: transcript_is_pred1, dtype: float64"
      ]
     },
     "execution_count": 5,
     "metadata": {},
     "output_type": "execute_result"
    }
   ],
   "source": [
    "df_top5[\"transcript_is_pred1\"].value_counts(normalize = True)"
   ]
  },
  {
   "cell_type": "markdown",
   "id": "e41feb3b",
   "metadata": {},
   "source": [
    "## 5 meilleures prédictions "
   ]
  },
  {
   "cell_type": "code",
   "execution_count": 6,
   "id": "b4b280e4",
   "metadata": {},
   "outputs": [
    {
     "data": {
      "text/html": [
       "<div>\n",
       "<style scoped>\n",
       "    .dataframe tbody tr th:only-of-type {\n",
       "        vertical-align: middle;\n",
       "    }\n",
       "\n",
       "    .dataframe tbody tr th {\n",
       "        vertical-align: top;\n",
       "    }\n",
       "\n",
       "    .dataframe thead th {\n",
       "        text-align: right;\n",
       "    }\n",
       "</style>\n",
       "<table border=\"1\" class=\"dataframe\">\n",
       "  <thead>\n",
       "    <tr style=\"text-align: right;\">\n",
       "      <th></th>\n",
       "      <th>data_path</th>\n",
       "      <th>predict_1</th>\n",
       "      <th>predict_2</th>\n",
       "      <th>predict_3</th>\n",
       "      <th>predict_4</th>\n",
       "      <th>predict_5</th>\n",
       "      <th>transcript</th>\n",
       "      <th>transcript_is_pred1</th>\n",
       "      <th>transcript_in_top5</th>\n",
       "    </tr>\n",
       "  </thead>\n",
       "  <tbody>\n",
       "    <tr>\n",
       "      <th>0</th>\n",
       "      <td>data/words/m01/m01-049/m01-049-00-00.png</td>\n",
       "      <td>He</td>\n",
       "      <td>Hhe</td>\n",
       "      <td>tHe</td>\n",
       "      <td>Hre</td>\n",
       "      <td>te</td>\n",
       "      <td>He</td>\n",
       "      <td>True</td>\n",
       "      <td>True</td>\n",
       "    </tr>\n",
       "    <tr>\n",
       "      <th>1</th>\n",
       "      <td>data/words/m01/m01-049/m01-049-00-01.png</td>\n",
       "      <td>lie</td>\n",
       "      <td>lile</td>\n",
       "      <td>Wie</td>\n",
       "      <td>Kie</td>\n",
       "      <td>Wile</td>\n",
       "      <td>rose</td>\n",
       "      <td>False</td>\n",
       "      <td>False</td>\n",
       "    </tr>\n",
       "    <tr>\n",
       "      <th>2</th>\n",
       "      <td>data/words/m01/m01-049/m01-049-00-02.png</td>\n",
       "      <td>frm</td>\n",
       "      <td>frn</td>\n",
       "      <td>firm</td>\n",
       "      <td>form</td>\n",
       "      <td>frem</td>\n",
       "      <td>from</td>\n",
       "      <td>False</td>\n",
       "      <td>False</td>\n",
       "    </tr>\n",
       "    <tr>\n",
       "      <th>3</th>\n",
       "      <td>data/words/m01/m01-049/m01-049-00-03.png</td>\n",
       "      <td>his</td>\n",
       "      <td>hns</td>\n",
       "      <td>hs</td>\n",
       "      <td>hi</td>\n",
       "      <td>hms</td>\n",
       "      <td>his</td>\n",
       "      <td>True</td>\n",
       "      <td>True</td>\n",
       "    </tr>\n",
       "    <tr>\n",
       "      <th>4</th>\n",
       "      <td>data/words/m01/m01-049/m01-049-00-05.png</td>\n",
       "      <td>Wek</td>\n",
       "      <td>Lek</td>\n",
       "      <td>Wak</td>\n",
       "      <td>lek</td>\n",
       "      <td>Lak</td>\n",
       "      <td>bench</td>\n",
       "      <td>False</td>\n",
       "      <td>False</td>\n",
       "    </tr>\n",
       "  </tbody>\n",
       "</table>\n",
       "</div>"
      ],
      "text/plain": [
       "                                  data_path predict_1 predict_2 predict_3  \\\n",
       "0  data/words/m01/m01-049/m01-049-00-00.png        He       Hhe       tHe   \n",
       "1  data/words/m01/m01-049/m01-049-00-01.png       lie      lile       Wie   \n",
       "2  data/words/m01/m01-049/m01-049-00-02.png       frm       frn      firm   \n",
       "3  data/words/m01/m01-049/m01-049-00-03.png       his       hns        hs   \n",
       "4  data/words/m01/m01-049/m01-049-00-05.png       Wek       Lek       Wak   \n",
       "\n",
       "  predict_4 predict_5 transcript transcript_is_pred1 transcript_in_top5  \n",
       "0       Hre        te         He                True               True  \n",
       "1       Kie      Wile       rose               False              False  \n",
       "2      form      frem       from               False              False  \n",
       "3        hi       hms        his                True               True  \n",
       "4       lek       Lak      bench               False              False  "
      ]
     },
     "execution_count": 6,
     "metadata": {},
     "output_type": "execute_result"
    }
   ],
   "source": [
    "df_top5['transcript_in_top5'] = None\n",
    "\n",
    "for i in range(df_top5.shape[0]):\n",
    "    df_top5.transcript_in_top5[i] = evaluation.transcript_in_top5(df_top5, i)\n",
    "df_top5.head()"
   ]
  },
  {
   "cell_type": "code",
   "execution_count": 7,
   "id": "44b56c60",
   "metadata": {},
   "outputs": [
    {
     "data": {
      "text/plain": [
       "True     0.52866\n",
       "False    0.47134\n",
       "Name: transcript_in_top5, dtype: float64"
      ]
     },
     "execution_count": 7,
     "metadata": {},
     "output_type": "execute_result"
    }
   ],
   "source": [
    "df_top5[\"transcript_in_top5\"].value_counts(normalize = True)"
   ]
  },
  {
   "cell_type": "markdown",
   "id": "a8105048",
   "metadata": {},
   "source": [
    "**Le modèle RNN**"
   ]
  },
  {
   "cell_type": "markdown",
   "id": "ddad95b5",
   "metadata": {},
   "source": [
    "# Visualisation"
   ]
  },
  {
   "cell_type": "code",
   "execution_count": 8,
   "id": "ffd52b81",
   "metadata": {},
   "outputs": [
    {
     "data": {
      "image/png": "[encoded data removed]",
      "text/plain": [
       "<Figure size 432x288 with 1 Axes>"
      ]
     },
     "metadata": {
      "needs_background": "light"
     },
     "output_type": "display_data"
    },
    {
     "data": {
      "image/png": "[encoded data removed]",
      "text/plain": [
       "<Figure size 432x288 with 1 Axes>"
      ]
     },
     "metadata": {
      "needs_background": "light"
     },
     "output_type": "display_data"
    },
    {
     "data": {
      "image/png": "[encoded data removed]",
      "text/plain": [
       "<Figure size 432x288 with 1 Axes>"
      ]
     },
     "metadata": {
      "needs_background": "light"
     },
     "output_type": "display_data"
    }
   ],
   "source": [
    "evaluation.viz_pred5(df_top5)"
   ]
  },
  {
   "cell_type": "markdown",
   "id": "c863c16b",
   "metadata": {},
   "source": [
    "# CER"
   ]
  },
  {
   "cell_type": "code",
   "execution_count": 9,
   "id": "c3fb9662",
   "metadata": {},
   "outputs": [],
   "source": [
    "mean_cer_pred1 = df_top5.apply(evaluation.cer, axis = 1).mean()"
   ]
  },
  {
   "cell_type": "code",
   "execution_count": 10,
   "id": "74a0d733",
   "metadata": {},
   "outputs": [
    {
     "data": {
      "text/plain": [
       "0.3653907688766114"
      ]
     },
     "execution_count": 10,
     "metadata": {},
     "output_type": "execute_result"
    }
   ],
   "source": [
    "mean_cer_pred1"
   ]
  },
  {
   "cell_type": "markdown",
   "id": "73f37f1d",
   "metadata": {},
   "source": [
    "**La CER moyenne sur la première prédiction est de 0.36, ce qui nous indique que plus de 60% des caractères individuels sont correctement prédits.** "
   ]
  },
  {
   "cell_type": "code",
   "execution_count": null,
   "id": "898e9c70",
   "metadata": {},
   "outputs": [],
   "source": []
  }
 ],
 "metadata": {
  "kernelspec": {
   "display_name": "Python 3 (ipykernel)",
   "language": "python",
   "name": "python3"
  },
  "language_info": {
   "codemirror_mode": {
    "name": "ipython",
    "version": 3
   },
   "file_extension": ".py",
   "mimetype": "text/x-python",
   "name": "python",
   "nbconvert_exporter": "python",
   "pygments_lexer": "ipython3",
   "version": "3.9.7"
  }
 },
 "nbformat": 4,
 "nbformat_minor": 5
}
